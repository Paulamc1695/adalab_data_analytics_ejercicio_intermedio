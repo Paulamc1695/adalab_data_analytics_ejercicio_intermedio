{
 "cells": [
  {
   "cell_type": "markdown",
   "metadata": {},
   "source": [
    "PARTE 1. STRINGS"
   ]
  },
  {
   "cell_type": "markdown",
   "metadata": {},
   "source": [
    "1.\n",
    "Dada una cadena de texto, contar cuántas veces aparece una letra específica en ella. Usa un input para que el usuario elija la letra a buscar.\n",
    "cadena = \"Python es un lenguaje de programación muy popular\"\n"
   ]
  },
  {
   "cell_type": "code",
   "execution_count": null,
   "metadata": {},
   "outputs": [],
   "source": []
  },
  {
   "cell_type": "markdown",
   "metadata": {},
   "source": [
    "2.\n",
    "Escribe un programa que tome la siguiente cadena de texto y reemplace una palabra específica por otra palabra. La palabra a reemplazar y reemplazada deben ser elegidas por el usuario.\n",
    "cadena = \"Python es genial. Python es fácil de aprender.\""
   ]
  },
  {
   "cell_type": "code",
   "execution_count": null,
   "metadata": {},
   "outputs": [],
   "source": []
  },
  {
   "cell_type": "markdown",
   "metadata": {},
   "source": [
    "3.\n",
    "Toma la siguiente oración y divídela en una lista de palabras. Luego, únelas nuevamente en una sola cadena de texto.\n",
    "oracion = \"Esto es una oración de ejemplo\""
   ]
  },
  {
   "cell_type": "code",
   "execution_count": null,
   "metadata": {},
   "outputs": [],
   "source": [
    "oracion = \"Esto es una oración de ejemplo\"\n",
    "oracion_lista = [\"Esto\",\"es\",\"una\",\"oración\",\"de\",\"ejemplo\"]\n",
    "\n",
    "lista_palabras = list(oracion_lista)\n",
    "print(lista_palabras)"
   ]
  },
  {
   "cell_type": "markdown",
   "metadata": {},
   "source": [
    "4.\n",
    "Desarrolla un programa que cuente cuántas palabras hay en la siguiente frase.\n",
    "cadena = \"Esta es una cadena con cinco palabras\""
   ]
  },
  {
   "cell_type": "code",
   "execution_count": null,
   "metadata": {},
   "outputs": [],
   "source": [
    "palabras_individuales = [\"Esta\", \"es\" ,\"una\", \"cadena\", \"con\", \"cinco\", \"palabras\"]\n",
    "\n",
    "palabras_cadena = len(palabras_individuales)\n",
    "print(\"En la frase 'Esta es una cadena de cinco palabras' el total de palabras que tiene es de:\", palabras_cadena)"
   ]
  },
  {
   "cell_type": "markdown",
   "metadata": {},
   "source": [
    "5.\n",
    "Escribe un programa que invierta una cadena de texto dada por un usuario. Mira el siguiente ejemplo para entender lo que se pide:\n",
    "# input \"Hola buenos dias\" # output \"dias buenos Hola"
   ]
  },
  {
   "cell_type": "code",
   "execution_count": 17,
   "metadata": {},
   "outputs": [
    {
     "ename": "AttributeError",
     "evalue": "'str' object has no attribute 'reverse'",
     "output_type": "error",
     "traceback": [
      "\u001b[0;31m---------------------------------------------------------------------------\u001b[0m",
      "\u001b[0;31mAttributeError\u001b[0m                            Traceback (most recent call last)",
      "Input \u001b[0;32mIn [17]\u001b[0m, in \u001b[0;36m<cell line: 3>\u001b[0;34m()\u001b[0m\n\u001b[1;32m      1\u001b[0m frase \u001b[38;5;241m=\u001b[39m \u001b[38;5;28mstr\u001b[39m(\u001b[38;5;28minput\u001b[39m(\u001b[38;5;124m\"\u001b[39m\u001b[38;5;124mPor favor, escribe una frase aleatoria\u001b[39m\u001b[38;5;124m\"\u001b[39m))\n\u001b[0;32m----> 3\u001b[0m resultado \u001b[38;5;241m=\u001b[39m \u001b[43mfrase\u001b[49m\u001b[38;5;241;43m.\u001b[39;49m\u001b[43mreverse\u001b[49m()\n\u001b[1;32m      4\u001b[0m \u001b[38;5;28mprint\u001b[39m(\u001b[38;5;124m\"\u001b[39m\u001b[38;5;124mEl resultado de la frase escrita es: \u001b[39m\u001b[38;5;124m\"\u001b[39m, resultado)\n",
      "\u001b[0;31mAttributeError\u001b[0m: 'str' object has no attribute 'reverse'"
     ]
    }
   ],
   "source": [
    "\n",
    "frase = str(input(\"Por favor, escribe una frase aleatoria\"))\n",
    "\n",
    "resultado = frase.reverse()\n",
    "print(\"El resultado de la frase escrita es: \", resultado)"
   ]
  },
  {
   "cell_type": "markdown",
   "metadata": {},
   "source": [
    "6.\n",
    "Crea un programa que busque una palabra específica(elegida por la usuaria) en una cadena de texto e indique su posición."
   ]
  },
  {
   "cell_type": "code",
   "execution_count": null,
   "metadata": {},
   "outputs": [],
   "source": []
  },
  {
   "cell_type": "markdown",
   "metadata": {},
   "source": [
    "PARTE 2. LISTAS"
   ]
  },
  {
   "cell_type": "markdown",
   "metadata": {},
   "source": [
    "1.\n",
    "Dada la siguiente lista: frutas = ['manzana', 'pera', 'banana', 'uva', 'kiwi'], realiza lo siguiente:\n",
    "a. Reemplaza el segundo elemento con 'durazno'.\n",
    "b. Agrega 'naranja' al final de la lista.\n",
    "c. Extrae y muestra por pantalla el tercer elemento de la lista."
   ]
  },
  {
   "cell_type": "code",
   "execution_count": 23,
   "metadata": {},
   "outputs": [
    {
     "ename": "AttributeError",
     "evalue": "'list' object has no attribute 'replace'",
     "output_type": "error",
     "traceback": [
      "\u001b[0;31m---------------------------------------------------------------------------\u001b[0m",
      "\u001b[0;31mAttributeError\u001b[0m                            Traceback (most recent call last)",
      "Input \u001b[0;32mIn [23]\u001b[0m, in \u001b[0;36m<cell line: 5>\u001b[0;34m()\u001b[0m\n\u001b[1;32m      1\u001b[0m frutas \u001b[38;5;241m=\u001b[39m [\u001b[38;5;124m'\u001b[39m\u001b[38;5;124mmanzana\u001b[39m\u001b[38;5;124m'\u001b[39m, \u001b[38;5;124m'\u001b[39m\u001b[38;5;124mpera\u001b[39m\u001b[38;5;124m'\u001b[39m, \u001b[38;5;124m'\u001b[39m\u001b[38;5;124mbanana\u001b[39m\u001b[38;5;124m'\u001b[39m, \u001b[38;5;124m'\u001b[39m\u001b[38;5;124muva\u001b[39m\u001b[38;5;124m'\u001b[39m, \u001b[38;5;124m'\u001b[39m\u001b[38;5;124mkiwi\u001b[39m\u001b[38;5;124m'\u001b[39m]\n\u001b[1;32m      3\u001b[0m \u001b[38;5;66;03m#a. Reemplaza el segundo elemento con 'durazno'\u001b[39;00m\n\u001b[0;32m----> 5\u001b[0m \u001b[43mfrutas\u001b[49m\u001b[38;5;241;43m.\u001b[39;49m\u001b[43mreplace\u001b[49m(\u001b[38;5;124m\"\u001b[39m\u001b[38;5;124mpera\u001b[39m\u001b[38;5;124m\"\u001b[39m, \u001b[38;5;124m\"\u001b[39m\u001b[38;5;124mdurazno\u001b[39m\u001b[38;5;124m\"\u001b[39m)\n\u001b[1;32m      6\u001b[0m \u001b[38;5;28mprint\u001b[39m(frutas)\n",
      "\u001b[0;31mAttributeError\u001b[0m: 'list' object has no attribute 'replace'"
     ]
    }
   ],
   "source": [
    "frutas = ['manzana', 'pera', 'banana', 'uva', 'kiwi']\n",
    "\n",
    "#a. Reemplaza el segundo elemento con 'durazno'\n",
    "\n",
    "frutas.replace(\"pera\",\"durazno\")\n",
    "print(frutas)\n",
    "\n",
    "\n",
    "#b. Agrega 'naranja' al final de la lista.\n",
    "#c. Extrae y muestra por pantalla el tercer elemento de la lista."
   ]
  },
  {
   "cell_type": "markdown",
   "metadata": {},
   "source": [
    "2.\n",
    "Crea una lista llamada numeros que contenga los siguientes valores: 10, 25, 15, 30, 20."
   ]
  },
  {
   "cell_type": "code",
   "execution_count": 24,
   "metadata": {},
   "outputs": [
    {
     "name": "stdout",
     "output_type": "stream",
     "text": [
      "<class 'list'>\n"
     ]
    }
   ],
   "source": [
    "numeros = [10, 25, 15, 30, 20]\n",
    "\n",
    "print(type(numeros))"
   ]
  },
  {
   "cell_type": "markdown",
   "metadata": {},
   "source": [
    "3.\n",
    "Agrega el valor 35 al incio de la lista numeros."
   ]
  },
  {
   "cell_type": "code",
   "execution_count": 27,
   "metadata": {},
   "outputs": [
    {
     "name": "stdout",
     "output_type": "stream",
     "text": [
      "La lista de números queda modificada de la siguiente manera:  [35, 10, 25, 15, 30, 20]\n"
     ]
    }
   ],
   "source": [
    "numeros = [10, 25, 15, 30, 20]\n",
    "\n",
    "numeros.insert(0, 35)\n",
    "print(\"La lista de números queda modificada de la siguiente manera: \",numeros)"
   ]
  },
  {
   "cell_type": "markdown",
   "metadata": {},
   "source": [
    "4.\n",
    "Ordena la lista numeros en orden ascendente."
   ]
  },
  {
   "cell_type": "markdown",
   "metadata": {},
   "source": [
    "5.\n",
    "Dada la siguiente lista numeros2 = [45, 22, 19, 38, 29]. Crea una nueva lista llamada numeros3 donde tengamos la unión de los todos los elementos de las dos listas (numeros y numeros2) de tal forma que el resultado final sea:\n",
    "numeros3 = [10, 25, 15, 30, 20, 45, 22, 19, 38, 29]"
   ]
  },
  {
   "cell_type": "code",
   "execution_count": 29,
   "metadata": {},
   "outputs": [
    {
     "name": "stdout",
     "output_type": "stream",
     "text": [
      "La lista de números unida queda de la siguiente manera:  [10, 25, 15, 30, 20, 45, 22, 19, 38, 29]\n"
     ]
    }
   ],
   "source": [
    "numeros = [10, 25, 15, 30, 20]\n",
    "numeros2 = [45, 22, 19, 38, 29]\n",
    "\n",
    "numeros3 = numeros + numeros2\n",
    "print(\"La lista de números unida queda de la siguiente manera: \", numeros3)"
   ]
  },
  {
   "cell_type": "markdown",
   "metadata": {},
   "source": [
    "6.\n",
    "Elimina el último elemento de la lista numeros3."
   ]
  },
  {
   "cell_type": "code",
   "execution_count": 33,
   "metadata": {},
   "outputs": [
    {
     "name": "stdout",
     "output_type": "stream",
     "text": [
      "[10, 25, 15, 30, 20, 45, 22, 19, 38, 29]\n",
      "La lista de numeros eliminado el último queda de la siguiente manera:  [10, 25, 15, 30, 20, 45, 22, 19, 38]\n"
     ]
    }
   ],
   "source": [
    "print(numeros3)\n",
    "\n",
    "numeros3.pop()\n",
    "print(\"La lista de numeros eliminando el último queda de la siguiente manera: \",numeros3)"
   ]
  },
  {
   "cell_type": "markdown",
   "metadata": {},
   "source": [
    "7.\n",
    "Elimina el número 30 de la lista numeros3."
   ]
  },
  {
   "cell_type": "code",
   "execution_count": 34,
   "metadata": {},
   "outputs": [
    {
     "name": "stdout",
     "output_type": "stream",
     "text": [
      "[10, 25, 15, 30, 20, 45, 22, 19, 38]\n",
      "La lista de numeros eliminando el número 30 queda de la siguiente manera:  [10, 25, 15, 20, 45, 22, 19, 38]\n"
     ]
    }
   ],
   "source": [
    "print(numeros3)\n",
    "\n",
    "numeros3.remove(30)\n",
    "print(\"La lista de numeros eliminando el número 30 queda de la siguiente manera: \",numeros3)"
   ]
  },
  {
   "cell_type": "markdown",
   "metadata": {},
   "source": [
    "PARTE 3. TUPLAS"
   ]
  },
  {
   "cell_type": "markdown",
   "metadata": {},
   "source": [
    "1.\n",
    "Crea una tupla llamada colores que contenga los siguientes valores: 'rojo', 'verde', 'azul', 'amarillo', 'morado'."
   ]
  },
  {
   "cell_type": "code",
   "execution_count": 35,
   "metadata": {},
   "outputs": [
    {
     "name": "stdout",
     "output_type": "stream",
     "text": [
      "<class 'tuple'>\n"
     ]
    }
   ],
   "source": [
    "tupla_colores = ('rojo', 'verde', 'azul', 'amarillo', 'morado')\n",
    "print(type(tupla_colores))"
   ]
  },
  {
   "cell_type": "markdown",
   "metadata": {},
   "source": [
    "2.\n",
    "Encuentra el índice de 'verde' en la tupla colores."
   ]
  },
  {
   "cell_type": "code",
   "execution_count": 40,
   "metadata": {},
   "outputs": [
    {
     "name": "stdout",
     "output_type": "stream",
     "text": [
      "El color verde está en la posicion:  1\n"
     ]
    }
   ],
   "source": [
    "print(\"El color verde está en la posicion: \", tupla_colores.index(\"verde\"))"
   ]
  },
  {
   "cell_type": "markdown",
   "metadata": {},
   "source": [
    "3.\n",
    "¿Cuántas veces aparece 'azul' en la tupla colores?"
   ]
  },
  {
   "cell_type": "code",
   "execution_count": 45,
   "metadata": {},
   "outputs": [
    {
     "name": "stdout",
     "output_type": "stream",
     "text": [
      "El color azul aparece en la lista: 1 vez\n"
     ]
    }
   ],
   "source": [
    "print(\"El color azul aparece en la lista:\", tupla_colores.count(\"azul\"), \"vez\")"
   ]
  },
  {
   "cell_type": "markdown",
   "metadata": {},
   "source": [
    "4.\n",
    "Añade el color \"morado\" a la tupla colores. ¿Qué ha pasado? ¿Por qué? Como podríamos añadir el elemento \"morado\"."
   ]
  },
  {
   "cell_type": "code",
   "execution_count": 48,
   "metadata": {},
   "outputs": [
    {
     "name": "stdout",
     "output_type": "stream",
     "text": [
      "<class 'list'>\n",
      "['rojo', 'verde', 'azul', 'amarillo', 'morado', 'morado']\n",
      "<class 'tuple'>\n"
     ]
    }
   ],
   "source": [
    "tupla_colores = ('rojo', 'verde', 'azul', 'amarillo', 'morado')\n",
    "\n",
    "lista_colores = list(tupla_colores)\n",
    "print(type(lista_colores))\n",
    "\n",
    "lista_colores.append(\"morado\")\n",
    "print(lista_colores)\n",
    "\n",
    "nueva_tupla_colores = tuple(lista_colores)\n",
    "print(type(nueva_tupla_colores))\n",
    "\n",
    "# Debido a que las tuplas son inmutables, el primer paso que se debe realizar es convertir la tupla en una lista;\n",
    "# Siendo una lista, se añade el elemento deseado  y se vuelve a convertir en una tupla."
   ]
  },
  {
   "cell_type": "markdown",
   "metadata": {},
   "source": [
    "PARTE 4. DICCIONARIOS"
   ]
  },
  {
   "cell_type": "markdown",
   "metadata": {},
   "source": [
    "1.\n",
    "Crea un diccionario llamado frutas con las siguientes parejas clave-valor:\n",
    "o\n",
    "'manzana': 2\n",
    "o\n",
    "'banana': 3\n",
    "o\n",
    "'uva': 5\n",
    "o\n",
    "'pera': 4"
   ]
  },
  {
   "cell_type": "code",
   "execution_count": 55,
   "metadata": {},
   "outputs": [],
   "source": [
    "frutas = {\"manzana\": 2,\"banana\": 3,\"uva\": 5,\"pera\": 5}"
   ]
  },
  {
   "cell_type": "markdown",
   "metadata": {},
   "source": [
    "2.\n",
    "Saca una lista de todas las frutas en el diccionario."
   ]
  },
  {
   "cell_type": "code",
   "execution_count": 56,
   "metadata": {},
   "outputs": [
    {
     "name": "stdout",
     "output_type": "stream",
     "text": [
      "[{'manzana': 2, 'banana': 3, 'uva': 5, 'pera': 5}]\n",
      "<class 'list'>\n"
     ]
    }
   ],
   "source": [
    "lista_frutas = [frutas]\n",
    "print(lista_frutas)\n",
    "print(type(lista_frutas))"
   ]
  },
  {
   "cell_type": "markdown",
   "metadata": {},
   "source": [
    "3.\n",
    "Saca una lista de todas las cantidades en el diccionario."
   ]
  },
  {
   "cell_type": "code",
   "execution_count": 63,
   "metadata": {},
   "outputs": [
    {
     "name": "stdout",
     "output_type": "stream",
     "text": [
      "La cantidaded de frutas que hay en la lista son:  dict_values([2, 3, 5, 5])\n"
     ]
    }
   ],
   "source": [
    "lista_cantidad = frutas.values()\n",
    "print(\"La cantidaded de frutas que hay en la lista son: \", lista_cantidad)"
   ]
  },
  {
   "cell_type": "markdown",
   "metadata": {},
   "source": [
    "4.\n",
    "¿Qué cantidad de 'manzana' tenemos?. Si la clave 'manzana' no está presente, devuelve un mensaje diciendo \"No existe esa clave\"."
   ]
  },
  {
   "cell_type": "code",
   "execution_count": 68,
   "metadata": {},
   "outputs": [
    {
     "name": "stdout",
     "output_type": "stream",
     "text": [
      "La cantidad de manzanas que hay es de:  no existe la clave\n"
     ]
    }
   ],
   "source": [
    "frutas = {\"manzana\": 2,\"banana\": 3,\"uva\": 5,\"pera\": 5}\n",
    "\n",
    "print(\"La cantidad de manzanas que hay es de: \", frutas.setdefault(\"manzana\", \"no existe la clave\"))"
   ]
  },
  {
   "cell_type": "markdown",
   "metadata": {},
   "source": [
    "5.\n",
    "Agrega un nuevo par de clave-valor al diccionario frutas: 'kiwi' con una cantidad de 6."
   ]
  },
  {
   "cell_type": "code",
   "execution_count": 70,
   "metadata": {},
   "outputs": [
    {
     "name": "stdout",
     "output_type": "stream",
     "text": [
      "La actualización queda de la siguiente manera:  {'manzana': 2, 'banana': 3, 'uva': 5, 'pera': 5, 'kiwi': 6}\n"
     ]
    }
   ],
   "source": [
    "frutas = {\"manzana\": 2,\"banana\": 3,\"uva\": 5,\"pera\": 5}\n",
    "\n",
    "frutas.update({\"kiwi\": 6})\n",
    "print(\"La actualización queda de la siguiente manera: \", frutas)"
   ]
  },
  {
   "cell_type": "markdown",
   "metadata": {},
   "source": [
    "6.\n",
    "Cambia la cantidad de 'uva' a 8."
   ]
  },
  {
   "cell_type": "code",
   "execution_count": 71,
   "metadata": {},
   "outputs": [
    {
     "name": "stdout",
     "output_type": "stream",
     "text": [
      "La actualización queda de la siguiente manera:  {'manzana': 2, 'banana': 3, 'uva': 8, 'pera': 5}\n"
     ]
    }
   ],
   "source": [
    "frutas = {\"manzana\": 2,\"banana\": 3,\"uva\": 5,\"pera\": 5}\n",
    "\n",
    "frutas.update({\"uva\": 8})\n",
    "print(\"La actualización queda de la siguiente manera: \", frutas)"
   ]
  },
  {
   "cell_type": "markdown",
   "metadata": {},
   "source": [
    "7.\n",
    "Crea un segundo diccionario llamado frutas_nuevas con las siguientes parejas clave-valor:\n",
    "o\n",
    "'sandía': 7\n",
    "o\n",
    "'mango': 4"
   ]
  },
  {
   "cell_type": "code",
   "execution_count": 72,
   "metadata": {},
   "outputs": [],
   "source": [
    "frutas_nuevas = {\"sandía\": 7,\"mango\": 4}"
   ]
  },
  {
   "cell_type": "markdown",
   "metadata": {},
   "source": [
    "8.\n",
    "Combinar los dos diccionarios frutas_nuevas y frutas en uno nuevos llamado frutas_total."
   ]
  },
  {
   "cell_type": "code",
   "execution_count": 90,
   "metadata": {},
   "outputs": [
    {
     "ename": "AttributeError",
     "evalue": "'dict' object has no attribute 'union'",
     "output_type": "error",
     "traceback": [
      "\u001b[0;31m---------------------------------------------------------------------------\u001b[0m",
      "\u001b[0;31mAttributeError\u001b[0m                            Traceback (most recent call last)",
      "Input \u001b[0;32mIn [90]\u001b[0m, in \u001b[0;36m<cell line: 5>\u001b[0;34m()\u001b[0m\n\u001b[1;32m      1\u001b[0m frutas \u001b[38;5;241m=\u001b[39m {\u001b[38;5;124m\"\u001b[39m\u001b[38;5;124mmanzana\u001b[39m\u001b[38;5;124m\"\u001b[39m: \u001b[38;5;241m2\u001b[39m,\u001b[38;5;124m\"\u001b[39m\u001b[38;5;124mbanana\u001b[39m\u001b[38;5;124m\"\u001b[39m: \u001b[38;5;241m3\u001b[39m,\u001b[38;5;124m\"\u001b[39m\u001b[38;5;124muva\u001b[39m\u001b[38;5;124m\"\u001b[39m: \u001b[38;5;241m5\u001b[39m,\u001b[38;5;124m\"\u001b[39m\u001b[38;5;124mpera\u001b[39m\u001b[38;5;124m\"\u001b[39m: \u001b[38;5;241m5\u001b[39m}\n\u001b[1;32m      3\u001b[0m frutas_nuevas \u001b[38;5;241m=\u001b[39m {\u001b[38;5;124m\"\u001b[39m\u001b[38;5;124msandía\u001b[39m\u001b[38;5;124m\"\u001b[39m: \u001b[38;5;241m7\u001b[39m,\u001b[38;5;124m\"\u001b[39m\u001b[38;5;124mmango\u001b[39m\u001b[38;5;124m\"\u001b[39m: \u001b[38;5;241m4\u001b[39m}\n\u001b[0;32m----> 5\u001b[0m frutas_total \u001b[38;5;241m=\u001b[39m \u001b[43mfrutas\u001b[49m\u001b[38;5;241;43m.\u001b[39;49m\u001b[43munion\u001b[49m(frutas_nuevas)\n\u001b[1;32m      6\u001b[0m \u001b[38;5;28mprint\u001b[39m(frutas_total)\n",
      "\u001b[0;31mAttributeError\u001b[0m: 'dict' object has no attribute 'union'"
     ]
    }
   ],
   "source": [
    "frutas = {\"manzana\": 2,\"banana\": 3,\"uva\": 5,\"pera\": 5}\n",
    "\n",
    "frutas_nuevas = {\"sandía\": 7,\"mango\": 4}\n",
    "\n",
    "frutas_total = frutas.union(frutas_nuevas)\n",
    "print(frutas_total)\n"
   ]
  },
  {
   "cell_type": "markdown",
   "metadata": {},
   "source": [
    "9.\n",
    "Elimina el último par de clave-valor del diccionario fruta_total."
   ]
  },
  {
   "cell_type": "code",
   "execution_count": 111,
   "metadata": {},
   "outputs": [
    {
     "name": "stdout",
     "output_type": "stream",
     "text": [
      "('mango', 4)\n"
     ]
    }
   ],
   "source": [
    "#Está hecho a mano debido a que en el ejercicio 7 me daba error y no podía avanzar.\n",
    "\n",
    "fruta_total = {\"manzana\": 2,\"banana\": 3,\"uva\": 5,\"pera\": 5,\"sandía\": 7,\"mango\": 4}\n",
    "\n",
    "print(fruta_total.popitem())"
   ]
  },
  {
   "cell_type": "markdown",
   "metadata": {},
   "source": [
    "10.\n",
    "Elimina el par de clave-valor correspondiente a la clave 'uva' del diccionario."
   ]
  },
  {
   "cell_type": "code",
   "execution_count": 128,
   "metadata": {},
   "outputs": [
    {
     "name": "stdout",
     "output_type": "stream",
     "text": [
      "{'manzana': 2, 'banana': 3, 'pera': 5, 'sandía': 7, 'mango': 4}\n"
     ]
    }
   ],
   "source": [
    "fruta_total = {\"manzana\": 2,\"banana\": 3,\"uva\": 5,\"pera\": 5,\"sandía\": 7,\"mango\": 4}\n",
    "\n",
    "fruta_total.pop(\"uva\")\n",
    "\n",
    "print(fruta_total)"
   ]
  },
  {
   "cell_type": "markdown",
   "metadata": {},
   "source": [
    "11.\n",
    "Agregar la fruta 'manzana' con una cantidad de 10 al diccionario. Si ya existe, no se realizarán cambios en los valores que teníamos."
   ]
  },
  {
   "cell_type": "code",
   "execution_count": null,
   "metadata": {},
   "outputs": [],
   "source": []
  },
  {
   "cell_type": "markdown",
   "metadata": {},
   "source": [
    "12.\n",
    "Combinar métodos de listas y diccionarios:\n",
    "o\n",
    "Obtén una lista de todas las cantidades en el diccionario y calcula suma total de las cantidades del diccionario frutas_total.\n",
    "o\n",
    "Utilizando la lista creada en el apartado anterior encuentra la cantidad más grande y más pequeña."
   ]
  },
  {
   "cell_type": "code",
   "execution_count": null,
   "metadata": {},
   "outputs": [],
   "source": []
  },
  {
   "cell_type": "markdown",
   "metadata": {},
   "source": [
    "PARTE 5. MÉTODOS DE SETS"
   ]
  },
  {
   "cell_type": "markdown",
   "metadata": {},
   "source": [
    "13.\n",
    "Crea un set llamado conjunto1 con los números del 1 al 5."
   ]
  },
  {
   "cell_type": "code",
   "execution_count": 88,
   "metadata": {},
   "outputs": [],
   "source": [
    "conjunto1 = {1, 2, 3, 4, 5}"
   ]
  },
  {
   "cell_type": "markdown",
   "metadata": {},
   "source": [
    "14.\n",
    "Crea otro set llamado conjunto2 con los números del 4 al 8."
   ]
  },
  {
   "cell_type": "code",
   "execution_count": 87,
   "metadata": {},
   "outputs": [],
   "source": [
    "conjunto2 = {4, 5, 6, 7, 8}"
   ]
  },
  {
   "cell_type": "markdown",
   "metadata": {},
   "source": [
    "15.\n",
    "Obtén la unión de conjunto1 y conjunto2."
   ]
  },
  {
   "cell_type": "code",
   "execution_count": 89,
   "metadata": {},
   "outputs": [
    {
     "name": "stdout",
     "output_type": "stream",
     "text": [
      "{1, 2, 3, 4, 5, 6, 7, 8}\n"
     ]
    }
   ],
   "source": [
    "conjunto_union = conjunto1.union(conjunto2)\n",
    "print(conjunto_union)"
   ]
  },
  {
   "cell_type": "markdown",
   "metadata": {},
   "source": [
    "16.\n",
    "Obtén la intersección de conjunto1 y conjunto2."
   ]
  },
  {
   "cell_type": "code",
   "execution_count": 91,
   "metadata": {},
   "outputs": [
    {
     "name": "stdout",
     "output_type": "stream",
     "text": [
      "Los elementos que tienen en común son: {4, 5}\n"
     ]
    }
   ],
   "source": [
    "interseccion = conjunto1.intersection(conjunto2)\n",
    "print(\"Los elementos que tienen en común son:\", interseccion)"
   ]
  },
  {
   "cell_type": "markdown",
   "metadata": {},
   "source": [
    "17.\n",
    "Obtén los elementos que están en conjunto1 pero no en el conjunto2."
   ]
  },
  {
   "cell_type": "code",
   "execution_count": 93,
   "metadata": {},
   "outputs": [
    {
     "name": "stdout",
     "output_type": "stream",
     "text": [
      "Los elementos que están en el conjunto1 pero no en el conjunto2 son: {1, 2, 3}\n"
     ]
    }
   ],
   "source": [
    "diferencia = conjunto1.difference(conjunto2)\n",
    "print(\"Los elementos que están en el conjunto1 pero no en el conjunto2 son:\", diferencia)"
   ]
  },
  {
   "cell_type": "markdown",
   "metadata": {},
   "source": [
    "PARTE 3. SENTENCIAS DE CONTROL"
   ]
  },
  {
   "cell_type": "markdown",
   "metadata": {},
   "source": [
    "Ejercicio 1: Evaluación de Edades:\n",
    "o\n",
    "Escribe un programa que solicite al usuario ingresar su edad.\n",
    "o\n",
    "Si la edad es menor de 18, muestra \"Eres menor de edad\".\n",
    "o\n",
    "Si la edad está entre 18 y 65 (incluyendo ambos extremos), muestra \"Eres adulto\".\n",
    "o\n",
    "Si la edad es mayor que 65, muestra \"Eres un adulto mayor\"."
   ]
  },
  {
   "cell_type": "code",
   "execution_count": 96,
   "metadata": {},
   "outputs": [
    {
     "name": "stdout",
     "output_type": "stream",
     "text": [
      "Eres adulto mayor\n"
     ]
    }
   ],
   "source": [
    "usuario = int(input(\"por favor ingrese su edad:\"))\n",
    "\n",
    "if usuario < 18:\n",
    "    print(\"Eres menor de edad\")\n",
    "elif usuario >=18 and usuario <65:\n",
    "    print(\"Eres adulto\")\n",
    "else:\n",
    "    print(\"Eres adulto mayor\")"
   ]
  },
  {
   "cell_type": "markdown",
   "metadata": {},
   "source": [
    "-\n",
    "Ejercicio 2: Determinación de Día de la Semana\n",
    "o\n",
    "Solicita al usuario que ingrese un número del 1 al 7.\n",
    "o\n",
    "Utilizando una serie de if-elif-else, muestra el día de la semana correspondiente al número ingresado. Por ejemplo, si ingresa 1, muestra \"Lunes\"."
   ]
  },
  {
   "cell_type": "code",
   "execution_count": 99,
   "metadata": {},
   "outputs": [
    {
     "name": "stdout",
     "output_type": "stream",
     "text": [
      "Corresponde al día viernes\n"
     ]
    }
   ],
   "source": [
    "semana = int(input(\"por favor, introduce un número del 1 al 7 incluidos:\"))\n",
    "\n",
    "if semana == 1:\n",
    "    print(\"Corresponde al día lunes\")\n",
    "elif semana == 2:\n",
    "    print(\"Corresponde al día martes\")\n",
    "elif semana == 3:\n",
    "    print(\"Corresponde al día miércoles\")\n",
    "elif semana == 4:\n",
    "    print(\"Corresponde al día jueves\")\n",
    "elif semana == 5:\n",
    "    print(\"Corresponde al día viernes\")\n",
    "elif semana == 6:\n",
    "    print(\"Corresponde al día sábado\")\n",
    "else:\n",
    "    print(\"Corresponde al día domingo\")\n"
   ]
  },
  {
   "cell_type": "markdown",
   "metadata": {},
   "source": [
    "Ejercicio 3: Juego de Adivinanza\n",
    "o\n",
    "Genera un número aleatorio entre 1 y 100.\n",
    "o\n",
    "Pídele al usuario que adivine el número.\n",
    "o\n",
    "Si el usuario adivina correctamente en el primer intento, muestra \"¡Ganaste en el primer intento!\".\n",
    "o\n",
    "Si el usuario no adivina en el primer intento, bríndale pistas (mayor o menor) y permite que intente nuevamente. Muestra cuántos intentos le llevó al final.\n",
    "-"
   ]
  },
  {
   "cell_type": "code",
   "execution_count": 106,
   "metadata": {},
   "outputs": [
    {
     "name": "stdout",
     "output_type": "stream",
     "text": [
      "¡PISTA!: en número se encuentra entre el 45 y el 85. Prueba de nuevo\n"
     ]
    }
   ],
   "source": [
    "numero_aleatorio = 63\n",
    "numero_elegido = int(input(\"por favor ingrese un numero del 1 al 100:\"))\n",
    "\n",
    "if numero_elegido == numero_aleatorio:\n",
    "    print(\"¡Ganaste en el primer intento!\")\n",
    "elif numero_elegido != numero_aleatorio:\n",
    "    print(\"¡PISTA!: en número se encuentra entre el 45 y el 85. Prueba de nuevo\")\n",
    "    numero_elegido = int(input(\"por favor ingrese un numero del 45 al 85:\"))\n",
    "    if numero_elegido == numero_aleatorio:\n",
    "    print(\"¡Genial! Lo has adivinado\")\n",
    "    elif numero_elegido != numero_aleatorio:\n",
    "    print(\"Lo siento, hoy no es tu día\")\n",
    "else:\n",
    "    print(\"Qué te pasó...\")\n",
    "\n",
    "    #No está completo, desde el segundo imput no sigue.\n"
   ]
  },
  {
   "cell_type": "markdown",
   "metadata": {},
   "source": [
    "\n",
    "Ejercicio 4: Juego de Adivinar la Palabra\n",
    "o\n",
    "Elige una palabra secreta y ocúltala utilizando asteriscos, por ejemplo, \"secreto\" se muestra como \"*******\".\n",
    "o\n",
    "Permite al usuario adivinar letras una por una.\n",
    "o\n",
    "Si la letra adivinada está en la palabra secreta, muestra la palabra con las letras descubiertas y los asteriscos.\n",
    "o\n",
    "Si la letra no está en la palabra secreta, resta una vida al jugador.\n",
    "o\n",
    "El juego continúa hasta que el jugador adivine la palabra."
   ]
  },
  {
   "cell_type": "code",
   "execution_count": 2,
   "metadata": {},
   "outputs": [
    {
     "name": "stdout",
     "output_type": "stream",
     "text": [
      "Conoces el juego del ahorcado? Pues verás... Es muy sencillo, sólo tienes que adivinar la palabra secreta 😉, pero no te preocupes! Yo te daré pistas...\n",
      "La letra , está en la palabra\n",
      "La letra , está en la palabra\n",
      "La letra , está en la palabra\n",
      "👏👏 Has adivinado la palabra!! la palabra secreta era:   \n"
     ]
    }
   ],
   "source": [
    "palabra_secreta = \"pan\"\n",
    "palabra_ocula = \"*\" * len(palabra_secreta)\n",
    "\n",
    "letras_acertadas = []\n",
    "\n",
    "print(\"Conoces el juego del ahorcado? Pues verás... Es muy sencillo, sólo tienes que adivinar la palabra secreta 😉, pero no te preocupes! Yo te daré pistas...\")\n",
    "\n",
    "while len(letras_acertadas) != len(palabra_secreta):\n",
    "\n",
    "    letra = input(\"Comenzamos!!!! Dame la primera letra\")\n",
    "    if letra in palabra_secreta:\n",
    "        print(f\"La letra {letra}, está en la palabra\")\n",
    "        letras_acertadas.append(letra)\n",
    "    else:\n",
    "        print(f\"Ups! La {letra} no era... sigue intentando 💪\")\n",
    "print(f\"👏👏 Has adivinado la palabra!! la palabra secreta era: {' '.join(letras_acertadas)}\")"
   ]
  },
  {
   "cell_type": "code",
   "execution_count": 4,
   "metadata": {},
   "outputs": [
    {
     "ename": "SyntaxError",
     "evalue": "f-string: expecting '}' (2670863229.py, line 18)",
     "output_type": "error",
     "traceback": [
      "\u001b[0;36m  Input \u001b[0;32mIn [4]\u001b[0;36m\u001b[0m\n\u001b[0;31m    print(f\"esta es la palabra que has adivinado es {\" \".join(letras_acertadas)}\")\u001b[0m\n\u001b[0m                                                                                 ^\u001b[0m\n\u001b[0;31mSyntaxError\u001b[0m\u001b[0;31m:\u001b[0m f-string: expecting '}'\n"
     ]
    }
   ],
   "source": [
    "palabra_secreta =\"pan\"\n",
    "\n",
    "palabra_oculta = \"*\" * len(palabra_secreta)\n",
    "\n",
    "letras_acertadas = []\n",
    "\n",
    "while len(letras_acertadas) != len(palabra_secreta) :\n",
    "\n",
    "    letra = input(\"Dime una letra:\")\n",
    "\n",
    "    if letra in palabra_secreta :\n",
    "        print(f\"la letra {letra} esta en la palabra\")\n",
    "        letras_acertadas.append(letra)\n",
    "\n",
    "    else:\n",
    "        print(f\"la letra {letra} no esta en la palabra\")\n",
    "\n",
    "print(f\"esta es la palabra que has adivinado es {\" \".join(letras_acertadas)}\")"
   ]
  }
 ],
 "metadata": {
  "kernelspec": {
   "display_name": "base",
   "language": "python",
   "name": "python3"
  },
  "language_info": {
   "codemirror_mode": {
    "name": "ipython",
    "version": 3
   },
   "file_extension": ".py",
   "mimetype": "text/x-python",
   "name": "python",
   "nbconvert_exporter": "python",
   "pygments_lexer": "ipython3",
   "version": "3.9.12"
  }
 },
 "nbformat": 4,
 "nbformat_minor": 2
}
